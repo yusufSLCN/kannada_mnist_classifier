{
 "cells": [
  {
   "cell_type": "code",
   "execution_count": 3,
   "metadata": {},
   "outputs": [
    {
     "name": "stderr",
     "output_type": "stream",
     "text": [
      "Using TensorFlow backend.\n"
     ]
    }
   ],
   "source": [
    "import keras\n",
    "from keras import layers\n",
    "from tensorflow.keras.preprocessing.image import ImageDataGenerator\n",
    "import numpy as np # linear algebra\n",
    "import pandas as pd # data processing, CSV file I/O (e.g. pd.read_csv)\n",
    "import matplotlib.pyplot as plt\n",
    "from sklearn.metrics import confusion_matrix\n",
    "import seaborn as sns"
   ]
  },
  {
   "cell_type": "code",
   "execution_count": 4,
   "metadata": {},
   "outputs": [],
   "source": [
    "#Load data and normalize it\n",
    "root_dir = \".\"\n",
    "train_data = pd.read_csv(root_dir + \"/Kannada-MNIST/train.csv\")\n",
    "train_labels = train_data['label'].to_numpy()\n",
    "train_pics = train_data.iloc[:,1:].to_numpy().reshape(-1,28,28,1)/255\n",
    "\n",
    "val_data = pd.read_csv(root_dir + \"/Kannada-MNIST/Dig-MNIST.csv\")\n",
    "val_labels = val_data['label'].to_numpy()\n",
    "val_pics = val_data.iloc[:,1:].to_numpy().reshape(-1,28,28,1)/255\n",
    "\n"
   ]
  },
  {
   "cell_type": "markdown",
   "metadata": {},
   "source": [
    "## In order to see the distribution of the classes, histogram of the data is ploted. Histogram shows that classes are distributed evenly in the training data. There might be no need to balance the classes.\n",
    "   "
   ]
  },
  {
   "cell_type": "code",
   "execution_count": 5,
   "metadata": {},
   "outputs": [
    {
     "data": {
      "image/png": "[encoded data removed]",
      "text/plain": [
       "<Figure size 432x288 with 1 Axes>"
      ]
     },
     "metadata": {
      "needs_background": "light"
     },
     "output_type": "display_data"
    }
   ],
   "source": [
    "plt.figure(1)\n",
    "plt.hist(train_labels, bins = 10)\n",
    "plt.title(\"Histogram of the training data\")\n",
    "plt.xlabel(\"Labels\")\n",
    "plt.show()\n"
   ]
  },
  {
   "cell_type": "markdown",
   "metadata": {},
   "source": [
    "## Plot an example data point to make sure that data is loaded correctly."
   ]
  },
  {
   "cell_type": "code",
   "execution_count": 6,
   "metadata": {},
   "outputs": [
    {
     "name": "stdout",
     "output_type": "stream",
     "text": [
      "(60000, 28, 28, 1) (10240, 28, 28, 1)\n"
     ]
    },
    {
     "data": {
      "image/png": "[encoded data removed]",
      "text/plain": [
       "<Figure size 432x288 with 1 Axes>"
      ]
     },
     "metadata": {
      "needs_background": "light"
     },
     "output_type": "display_data"
    }
   ],
   "source": [
    "print(train_pics.shape, val_pics.shape)\n",
    "plt.figure(2)\n",
    "plt.imshow(train_pics[0].reshape(28,28), cmap = \"gray\")\n",
    "plt.title(f\"Example input labeled as {train_labels[0]}\")\n",
    "plt.show()"
   ]
  },
  {
   "cell_type": "markdown",
   "metadata": {},
   "source": [
    "## This function will be called each batch when inserting data into model. It rotates, zooms and shifts the image randomly. Data augmentation increases the flexibility of the model."
   ]
  },
  {
   "cell_type": "code",
   "execution_count": 5,
   "metadata": {},
   "outputs": [],
   "source": [
    "#Data augmentation for training, modify data while training to increase generalization ability of the model\n",
    "datagen = ImageDataGenerator(\n",
    "    rotation_range=10,\n",
    "    zoom_range=0.1,\n",
    "    width_shift_range=0.1,\n",
    "    height_shift_range=0.1)"
   ]
  },
  {
   "cell_type": "markdown",
   "metadata": {},
   "source": [
    "## After every 2 convolution layer; 1 batch normalization, max pooling and dropout layers are added. Since data has low resolution, padding is set ot 'same'. In order to avoid overfitting dropout ratios are adjusted accordingly. Batch normalization layers are used to handle vanishing and exploding gradients problem. Max pooling layer extracts the most important features in the data. Fully connected layer sizes and counts are fine tuned to have a better result. Final fc layer has a softmax activation function to output a distribution over the class labels."
   ]
  },
  {
   "cell_type": "code",
   "execution_count": 6,
   "metadata": {},
   "outputs": [],
   "source": [
    "#Construct the model\n",
    "model = keras.Sequential([\n",
    "    layers.Input(shape=(28,28,1)),\n",
    "    layers.Conv2D(32, 5, padding='same', activation='relu', name='conv1'),\n",
    "    layers.Conv2D(32, 5, padding='same', activation='relu', name='conv2'),\n",
    "    layers.BatchNormalization(),\n",
    "    layers.MaxPooling2D(),\n",
    "    layers.Dropout(0.4),\n",
    "    \n",
    "    layers.Conv2D(32, 3, padding='same', activation='relu', name='conv3'),\n",
    "    layers.Conv2D(32, 3, padding='same', activation='relu', name='conv4'),\n",
    "    layers.BatchNormalization(),\n",
    "    layers.MaxPooling2D(),\n",
    "    layers.Dropout(0.4),\n",
    "    \n",
    "    layers.Conv2D(64, 3, padding='same', activation='relu', name='conv5'),\n",
    "    layers.Conv2D(64, 3, padding='same', activation='relu', name='conv6'),\n",
    "    layers.BatchNormalization(),\n",
    "    layers.MaxPooling2D(),\n",
    "    layers.Dropout(0.4),\n",
    "    \n",
    "    layers.Flatten(),\n",
    "    layers.Dense(128, activation='relu'),\n",
    "    layers.Dropout(0.4),\n",
    "    layers.Dense(64, activation='relu'),\n",
    "    layers.Dropout(0.4),\n",
    "    layers.Dense(10, activation='softmax')\n",
    "])"
   ]
  },
  {
   "cell_type": "code",
   "execution_count": 7,
   "metadata": {},
   "outputs": [
    {
     "name": "stdout",
     "output_type": "stream",
     "text": [
      "Model: \"sequential\"\n",
      "_________________________________________________________________\n",
      "Layer (type)                 Output Shape              Param #   \n",
      "=================================================================\n",
      "conv1 (Conv2D)               (None, 28, 28, 32)        832       \n",
      "_________________________________________________________________\n",
      "conv2 (Conv2D)               (None, 28, 28, 32)        25632     \n",
      "_________________________________________________________________\n",
      "batch_normalization (BatchNo (None, 28, 28, 32)        128       \n",
      "_________________________________________________________________\n",
      "max_pooling2d (MaxPooling2D) (None, 14, 14, 32)        0         \n",
      "_________________________________________________________________\n",
      "dropout (Dropout)            (None, 14, 14, 32)        0         \n",
      "_________________________________________________________________\n",
      "conv3 (Conv2D)               (None, 14, 14, 32)        9248      \n",
      "_________________________________________________________________\n",
      "conv4 (Conv2D)               (None, 14, 14, 32)        9248      \n",
      "_________________________________________________________________\n",
      "batch_normalization_1 (Batch (None, 14, 14, 32)        128       \n",
      "_________________________________________________________________\n",
      "max_pooling2d_1 (MaxPooling2 (None, 7, 7, 32)          0         \n",
      "_________________________________________________________________\n",
      "dropout_1 (Dropout)          (None, 7, 7, 32)          0         \n",
      "_________________________________________________________________\n",
      "conv5 (Conv2D)               (None, 7, 7, 64)          18496     \n",
      "_________________________________________________________________\n",
      "conv6 (Conv2D)               (None, 7, 7, 64)          36928     \n",
      "_________________________________________________________________\n",
      "batch_normalization_2 (Batch (None, 7, 7, 64)          256       \n",
      "_________________________________________________________________\n",
      "max_pooling2d_2 (MaxPooling2 (None, 3, 3, 64)          0         \n",
      "_________________________________________________________________\n",
      "dropout_2 (Dropout)          (None, 3, 3, 64)          0         \n",
      "_________________________________________________________________\n",
      "flatten (Flatten)            (None, 576)               0         \n",
      "_________________________________________________________________\n",
      "dense (Dense)                (None, 128)               73856     \n",
      "_________________________________________________________________\n",
      "dropout_3 (Dropout)          (None, 128)               0         \n",
      "_________________________________________________________________\n",
      "dense_1 (Dense)              (None, 64)                8256      \n",
      "_________________________________________________________________\n",
      "dropout_4 (Dropout)          (None, 64)                0         \n",
      "_________________________________________________________________\n",
      "dense_2 (Dense)              (None, 10)                650       \n",
      "=================================================================\n",
      "Total params: 183,658\n",
      "Trainable params: 183,402\n",
      "Non-trainable params: 256\n",
      "_________________________________________________________________\n"
     ]
    }
   ],
   "source": [
    "model.summary()"
   ]
  },
  {
   "cell_type": "markdown",
   "metadata": {},
   "source": [
    "## Since this is a multi class classification problem, categorical cross-entropy loss is used. The model is evaluated based on accuracy."
   ]
  },
  {
   "cell_type": "code",
   "execution_count": 8,
   "metadata": {},
   "outputs": [
    {
     "name": "stdout",
     "output_type": "stream",
     "text": [
      "Epoch 1/20\n",
      "938/937 [==============================] - 20s 22ms/step - loss: 0.7426 - accuracy: 0.7439 - val_loss: 0.9592 - val_accuracy: 0.7717\n",
      "Epoch 2/20\n",
      "938/937 [==============================] - 18s 19ms/step - loss: 0.1561 - accuracy: 0.9579 - val_loss: 0.8075 - val_accuracy: 0.8298\n",
      "Epoch 3/20\n",
      "938/937 [==============================] - 18s 19ms/step - loss: 0.1080 - accuracy: 0.9718 - val_loss: 0.9470 - val_accuracy: 0.8119\n",
      "Epoch 4/20\n",
      "938/937 [==============================] - 18s 19ms/step - loss: 0.0938 - accuracy: 0.9763 - val_loss: 0.8248 - val_accuracy: 0.8337\n",
      "Epoch 5/20\n",
      "938/937 [==============================] - 18s 19ms/step - loss: 0.0767 - accuracy: 0.9806 - val_loss: 0.6460 - val_accuracy: 0.8752\n",
      "Epoch 6/20\n",
      "938/937 [==============================] - 18s 19ms/step - loss: 0.0785 - accuracy: 0.9806 - val_loss: 0.8646 - val_accuracy: 0.8394\n",
      "Epoch 7/20\n",
      "938/937 [==============================] - 18s 19ms/step - loss: 0.0645 - accuracy: 0.9838 - val_loss: 0.9569 - val_accuracy: 0.8493\n",
      "Epoch 8/20\n",
      "938/937 [==============================] - 18s 19ms/step - loss: 0.0584 - accuracy: 0.9847 - val_loss: 0.8584 - val_accuracy: 0.8500\n",
      "Epoch 9/20\n",
      "938/937 [==============================] - 18s 19ms/step - loss: 0.0524 - accuracy: 0.9864 - val_loss: 0.8294 - val_accuracy: 0.8671\n",
      "Epoch 10/20\n",
      "938/937 [==============================] - 18s 19ms/step - loss: 0.0542 - accuracy: 0.9862 - val_loss: 1.0881 - val_accuracy: 0.8413\n",
      "Epoch 11/20\n",
      "938/937 [==============================] - 18s 19ms/step - loss: 0.0490 - accuracy: 0.9873 - val_loss: 1.0318 - val_accuracy: 0.8447\n",
      "Epoch 12/20\n",
      "938/937 [==============================] - 18s 19ms/step - loss: 0.0477 - accuracy: 0.9880 - val_loss: 0.9810 - val_accuracy: 0.8614\n",
      "Epoch 13/20\n",
      "938/937 [==============================] - 18s 19ms/step - loss: 0.0457 - accuracy: 0.9886 - val_loss: 1.0515 - val_accuracy: 0.8549\n",
      "Epoch 14/20\n",
      "938/937 [==============================] - 18s 19ms/step - loss: 0.0463 - accuracy: 0.9886 - val_loss: 1.1952 - val_accuracy: 0.8368\n",
      "Epoch 15/20\n",
      "938/937 [==============================] - 18s 19ms/step - loss: 0.0429 - accuracy: 0.9892 - val_loss: 1.0045 - val_accuracy: 0.8478\n",
      "Epoch 16/20\n",
      "938/937 [==============================] - 18s 19ms/step - loss: 0.0459 - accuracy: 0.9883 - val_loss: 0.9932 - val_accuracy: 0.8566\n",
      "Epoch 17/20\n",
      "938/937 [==============================] - 18s 19ms/step - loss: 0.0388 - accuracy: 0.9899 - val_loss: 0.9408 - val_accuracy: 0.8569\n",
      "Epoch 18/20\n",
      "938/937 [==============================] - 17s 18ms/step - loss: 0.0418 - accuracy: 0.9894 - val_loss: 1.4192 - val_accuracy: 0.8301\n",
      "Epoch 19/20\n",
      "938/937 [==============================] - 18s 19ms/step - loss: 0.0372 - accuracy: 0.9902 - val_loss: 0.9587 - val_accuracy: 0.8734\n",
      "Epoch 20/20\n",
      "938/937 [==============================] - 18s 19ms/step - loss: 0.0373 - accuracy: 0.9906 - val_loss: 1.1358 - val_accuracy: 0.8500\n"
     ]
    }
   ],
   "source": [
    "#Adam optimizer performs well on computer vision tasks\n",
    "model.compile(optimizer=keras.optimizers.Adam(1e-3),\n",
    "              loss = keras.losses.SparseCategoricalCrossentropy(), metrics = ['accuracy'])\n",
    "batch_size = 64\n",
    "epochs = 20\n",
    "#Validate model performance\n",
    "log = model.fit(datagen.flow(train_pics,train_labels, batch_size=batch_size),\n",
    "                steps_per_epoch=len(train_data)/batch_size,\n",
    "                epochs=epochs,verbose=1, validation_data=(val_pics,val_labels))"
   ]
  },
  {
   "cell_type": "markdown",
   "metadata": {},
   "source": [
    "## Learning curve shows that model has acceptible accuracy on validation data."
   ]
  },
  {
   "cell_type": "code",
   "execution_count": 9,
   "metadata": {},
   "outputs": [
    {
     "data": {
      "image/png": "[encoded data removed]",
      "text/plain": [
       "<Figure size 432x288 with 1 Axes>"
      ]
     },
     "metadata": {
      "needs_background": "light"
     },
     "output_type": "display_data"
    }
   ],
   "source": [
    "#Plot learning curve\n",
    "plt.figure(3)\n",
    "plt.plot(log.history['accuracy'],label = 'train_accuracy')\n",
    "plt.plot(log.history['val_accuracy'],label = 'val_accuracy')\n",
    "plt.xlabel(\"Epoch\")\n",
    "plt.ylabel(\"Accuracy\")\n",
    "plt.legend()\n",
    "plt.show();"
   ]
  },
  {
   "cell_type": "markdown",
   "metadata": {},
   "source": [
    "## Accuracy is not always an indicator of a good model. Therefore confusion matrix is plotted to show that true predictions are distributed evenly. Also we can see which class pairs classified worse."
   ]
  },
  {
   "cell_type": "code",
   "execution_count": 10,
   "metadata": {},
   "outputs": [
    {
     "data": {
      "text/plain": [
       "Text(0.5, 1.0, 'Confusion Matrix')"
      ]
     },
     "execution_count": 10,
     "metadata": {},
     "output_type": "execute_result"
    },
    {
     "data": {
      "image/png": "[encoded data removed]",
      "text/plain": [
       "<Figure size 432x288 with 2 Axes>"
      ]
     },
     "metadata": {
      "needs_background": "light"
     },
     "output_type": "display_data"
    }
   ],
   "source": [
    "#Plot confusion matrix\n",
    "y_valid = model.predict(val_pics)\n",
    "y_valid = np.argmax(y_valid, axis=1)\n",
    "conf_matrix = confusion_matrix(val_labels, y_valid)\n",
    "ax = plt.subplot()\n",
    "sns.heatmap(conf_matrix, annot=True, ax=ax, cmap='Blues', fmt='3d')\n",
    "#labels, title\n",
    "ax.set_xlabel('Predicted labels')\n",
    "ax.set_ylabel('True labels')\n",
    "ax.set_title('Confusion Matrix')"
   ]
  },
  {
   "cell_type": "markdown",
   "metadata": {},
   "source": [
    "## After validating the performance of the model, the model is prepared to train on all the avaliable data. Utilizing all the avaliable data is important before testing the model."
   ]
  },
  {
   "cell_type": "code",
   "execution_count": 11,
   "metadata": {},
   "outputs": [],
   "source": [
    "#Merge training and validation data for the final training\n",
    "merged_pics = np.vstack((train_pics,val_pics))\n",
    "merged_label =  np.hstack((train_labels,val_labels))"
   ]
  },
  {
   "cell_type": "code",
   "execution_count": 12,
   "metadata": {},
   "outputs": [
    {
     "name": "stdout",
     "output_type": "stream",
     "text": [
      "Epoch 1/20\n",
      "938/937 - 16s - loss: 0.1157 - accuracy: 0.9722\n",
      "Epoch 2/20\n",
      "938/937 - 16s - loss: 0.0883 - accuracy: 0.9777\n",
      "Epoch 3/20\n",
      "938/937 - 16s - loss: 0.0829 - accuracy: 0.9781\n",
      "Epoch 4/20\n",
      "938/937 - 16s - loss: 0.0747 - accuracy: 0.9802\n",
      "Epoch 5/20\n",
      "938/937 - 16s - loss: 0.0759 - accuracy: 0.9806\n",
      "Epoch 6/20\n",
      "938/937 - 17s - loss: 0.0739 - accuracy: 0.9805\n",
      "Epoch 7/20\n",
      "938/937 - 16s - loss: 0.0688 - accuracy: 0.9825\n",
      "Epoch 8/20\n",
      "938/937 - 16s - loss: 0.0657 - accuracy: 0.9834\n",
      "Epoch 9/20\n",
      "938/937 - 16s - loss: 0.0677 - accuracy: 0.9822\n",
      "Epoch 10/20\n",
      "938/937 - 16s - loss: 0.0620 - accuracy: 0.9840\n",
      "Epoch 11/20\n",
      "938/937 - 16s - loss: 0.0619 - accuracy: 0.9830\n",
      "Epoch 12/20\n",
      "938/937 - 16s - loss: 0.0567 - accuracy: 0.9851\n",
      "Epoch 13/20\n",
      "938/937 - 16s - loss: 0.0607 - accuracy: 0.9839\n",
      "Epoch 14/20\n",
      "938/937 - 16s - loss: 0.0586 - accuracy: 0.9845\n",
      "Epoch 15/20\n",
      "938/937 - 16s - loss: 0.0570 - accuracy: 0.9851\n",
      "Epoch 16/20\n",
      "938/937 - 16s - loss: 0.0552 - accuracy: 0.9853\n",
      "Epoch 17/20\n",
      "938/937 - 16s - loss: 0.0555 - accuracy: 0.9851\n",
      "Epoch 18/20\n",
      "938/937 - 16s - loss: 0.0537 - accuracy: 0.9862\n",
      "Epoch 19/20\n",
      "938/937 - 16s - loss: 0.0536 - accuracy: 0.9865\n",
      "Epoch 20/20\n",
      "938/937 - 16s - loss: 0.0530 - accuracy: 0.9864\n"
     ]
    }
   ],
   "source": [
    "#Train with all the available data\n",
    "model.compile(optimizer=keras.optimizers.Adam(1e-3), loss = keras.losses.SparseCategoricalCrossentropy(),\n",
    "              metrics = ['accuracy'])\n",
    "log = model.fit(datagen.flow(merged_pics,merged_label, batch_size=batch_size), \n",
    "                steps_per_epoch=len(train_data)/batch_size,\n",
    "                epochs=epochs,verbose=2)"
   ]
  },
  {
   "cell_type": "code",
   "execution_count": 13,
   "metadata": {},
   "outputs": [
    {
     "name": "stdout",
     "output_type": "stream",
     "text": [
      "(5000, 785)\n"
     ]
    }
   ],
   "source": [
    "#Load test data\n",
    "test_data = pd.read_csv(root_dir + \"/Kannada-MNIST/test.csv\")\n",
    "print(test_data.shape)\n",
    "test_id = np.array(test_data.index)\n",
    "test_pics = test_data.iloc[:,1:].to_numpy().reshape(-1,28,28,1)/255"
   ]
  },
  {
   "cell_type": "code",
   "execution_count": 14,
   "metadata": {},
   "outputs": [],
   "source": [
    "#Get predictions for the test data\n",
    "test_prediction = model.predict(test_pics)\n",
    "test_prediction = np.argmax(test_prediction, axis = 1)\n",
    "res = pd.DataFrame(np.concatenate([test_id[:, np.newaxis], test_prediction[:,np.newaxis]], axis=1),\n",
    "                   columns=[\"id\", \"label\"])"
   ]
  },
  {
   "cell_type": "code",
   "execution_count": 15,
   "metadata": {},
   "outputs": [
    {
     "data": {
      "text/html": [
       "<div>\n",
       "<style scoped>\n",
       "    .dataframe tbody tr th:only-of-type {\n",
       "        vertical-align: middle;\n",
       "    }\n",
       "\n",
       "    .dataframe tbody tr th {\n",
       "        vertical-align: top;\n",
       "    }\n",
       "\n",
       "    .dataframe thead th {\n",
       "        text-align: right;\n",
       "    }\n",
       "</style>\n",
       "<table border=\"1\" class=\"dataframe\">\n",
       "  <thead>\n",
       "    <tr style=\"text-align: right;\">\n",
       "      <th></th>\n",
       "      <th>id</th>\n",
       "      <th>label</th>\n",
       "    </tr>\n",
       "  </thead>\n",
       "  <tbody>\n",
       "    <tr>\n",
       "      <th>0</th>\n",
       "      <td>0</td>\n",
       "      <td>3</td>\n",
       "    </tr>\n",
       "    <tr>\n",
       "      <th>1</th>\n",
       "      <td>1</td>\n",
       "      <td>0</td>\n",
       "    </tr>\n",
       "    <tr>\n",
       "      <th>2</th>\n",
       "      <td>2</td>\n",
       "      <td>2</td>\n",
       "    </tr>\n",
       "    <tr>\n",
       "      <th>3</th>\n",
       "      <td>3</td>\n",
       "      <td>6</td>\n",
       "    </tr>\n",
       "    <tr>\n",
       "      <th>4</th>\n",
       "      <td>4</td>\n",
       "      <td>7</td>\n",
       "    </tr>\n",
       "    <tr>\n",
       "      <th>...</th>\n",
       "      <td>...</td>\n",
       "      <td>...</td>\n",
       "    </tr>\n",
       "    <tr>\n",
       "      <th>4995</th>\n",
       "      <td>4995</td>\n",
       "      <td>1</td>\n",
       "    </tr>\n",
       "    <tr>\n",
       "      <th>4996</th>\n",
       "      <td>4996</td>\n",
       "      <td>1</td>\n",
       "    </tr>\n",
       "    <tr>\n",
       "      <th>4997</th>\n",
       "      <td>4997</td>\n",
       "      <td>1</td>\n",
       "    </tr>\n",
       "    <tr>\n",
       "      <th>4998</th>\n",
       "      <td>4998</td>\n",
       "      <td>6</td>\n",
       "    </tr>\n",
       "    <tr>\n",
       "      <th>4999</th>\n",
       "      <td>4999</td>\n",
       "      <td>3</td>\n",
       "    </tr>\n",
       "  </tbody>\n",
       "</table>\n",
       "<p>5000 rows × 2 columns</p>\n",
       "</div>"
      ],
      "text/plain": [
       "        id  label\n",
       "0        0      3\n",
       "1        1      0\n",
       "2        2      2\n",
       "3        3      6\n",
       "4        4      7\n",
       "...    ...    ...\n",
       "4995  4995      1\n",
       "4996  4996      1\n",
       "4997  4997      1\n",
       "4998  4998      6\n",
       "4999  4999      3\n",
       "\n",
       "[5000 rows x 2 columns]"
      ]
     },
     "execution_count": 15,
     "metadata": {},
     "output_type": "execute_result"
    }
   ],
   "source": [
    "res"
   ]
  },
  {
   "cell_type": "code",
   "execution_count": null,
   "metadata": {},
   "outputs": [],
   "source": []
  }
 ],
 "metadata": {
  "kernelspec": {
   "display_name": "Python 3",
   "language": "python",
   "name": "python3"
  },
  "language_info": {
   "codemirror_mode": {
    "name": "ipython",
    "version": 3
   },
   "file_extension": ".py",
   "mimetype": "text/x-python",
   "name": "python",
   "nbconvert_exporter": "python",
   "pygments_lexer": "ipython3",
   "version": "3.7.4"
  }
 },
 "nbformat": 4,
 "nbformat_minor": 4
}
